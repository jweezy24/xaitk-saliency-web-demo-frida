{
 "cells": [
  {
   "cell_type": "code",
   "execution_count": 12,
   "id": "48acbc0d-7111-49cb-b95f-f94c757f2d28",
   "metadata": {},
   "outputs": [],
   "source": [
    "from xaitk_saliency_demo.app.jupyter import create_app\n",
    "\n",
    "app = await create_app()"
   ]
  },
  {
   "cell_type": "code",
   "execution_count": 13,
   "id": "8af2db81-9a9d-49e6-bff6-44bda89f4ba6",
   "metadata": {},
   "outputs": [
    {
     "data": {
      "text/html": [
       "<iframe id=\"trame_trame__template_main\" src=\"http://localhost:34217/index.html?ui=main&reconnect=auto\" style=\"border: none; width: 100%; height: 600px;\"></iframe>"
      ]
     },
     "metadata": {},
     "output_type": "display_data"
    }
   ],
   "source": [
    "app.gui"
   ]
  }
 ],
 "metadata": {
  "kernelspec": {
   "display_name": "Python 3 (ipykernel)",
   "language": "python",
   "name": "python3"
  },
  "language_info": {
   "codemirror_mode": {
    "name": "ipython",
    "version": 3
   },
   "file_extension": ".py",
   "mimetype": "text/x-python",
   "name": "python",
   "nbconvert_exporter": "python",
   "pygments_lexer": "ipython3",
   "version": "3.10.12"
  }
 },
 "nbformat": 4,
 "nbformat_minor": 5
}
